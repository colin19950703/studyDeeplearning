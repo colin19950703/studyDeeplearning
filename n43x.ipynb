{
  "nbformat": 4,
  "nbformat_minor": 0,
  "metadata": {
    "colab": {
      "name": "Untitled3.ipynb",
      "provenance": [],
      "toc_visible": true
    },
    "kernelspec": {
      "name": "python3",
      "display_name": "Python 3"
    },
    "language_info": {
      "name": "python"
    }
  },
  "cells": [
    {
      "cell_type": "markdown",
      "metadata": {
        "id": "dGyE-2QLeBRC"
      },
      "source": [
        "# N431. Convolutional Neural Networks"
      ]
    },
    {
      "cell_type": "markdown",
      "metadata": {
        "id": "QDBbCb7KgxRI"
      },
      "source": [
        "용어 설명\n",
        "\n",
        "Convolution : 합성곱, 이미지에 필터 마스크를 적용한다고 생각하면 된다.\n",
        "\n",
        "Filter: 가중치 (weights parameters)의 집합으로 이루어져 가장 작은 특징을 잡아내는 창. 필터 마스크라고 생각하면 된다.\n",
        "\n",
        "Stride: 필터(filter)를 얼만큼씩 움직이며 이미지를 볼 지 결정하는 수 (예) \n",
        "Stride가 1이면 한칸씩 이동하며, 누락없이 모든것을 본다면, stride가 2 이면 한칸씩 건너뛰면서 Filter를 적용하게 되고, 띈 만큼 다음 레이어의 데이터의 수가 줄어든다.\n",
        "\n",
        "Padding: Zeros(또는 다른 값)을 이미지의 외각(가장자리)에 배치하여 conv를 할 때 원래 이미지와 같은 데이터의 수를 갖을 수 있도록 도와줌 (Stride = 1일 때)\n",
        "\n",
        "Pooling : 풀링 레이어를 사용하여 피처맵의 차원을 줄인다. 보통의 경우 컨볼루션을 적용한 이후 레이어를 풀링하여 점점 더 작은 피쳐맵를 얻습니다. 이렇게 줄어든 피쳐들을 이용하여 ANN형태의 신경망에 넣어 Classification or regression을 수행하게 된다."
      ]
    },
    {
      "cell_type": "markdown",
      "metadata": {
        "id": "rmPkJBpxeCNo"
      },
      "source": [
        "#N432. Image Segmentation & Data Augmentation"
      ]
    },
    {
      "cell_type": "markdown",
      "metadata": {
        "id": "8ZfI7boyeCfi"
      },
      "source": [
        "#N433. Autoencoders (AE)"
      ]
    },
    {
      "cell_type": "markdown",
      "metadata": {
        "id": "UImn0b8zeBYc"
      },
      "source": [
        "#N434.Generative Adversarial Networks, GAN"
      ]
    }
  ]
}